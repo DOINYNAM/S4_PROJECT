{
 "cells": [
  {
   "cell_type": "markdown",
   "metadata": {
    "id": "y9KuP1O7vFEE"
   },
   "source": [
    "## 🚩 Section 4 : Deep Learning 프로젝트의 목적\n",
    "\n",
    "1. 내가 설정한 포지션에서 적합한 데이터셋 을 구한 뒤 그에 맞는 가설을 세우고 가설을 검증합니다.\n",
    "2. 가설 검증을 위한 딥러닝 파이프라인을 구축합니다.\n",
    "3. 구축한 파이프라인은 완벽하지 않아도 되며, 큰 가설의 일부(곁 가지)에 대한 검증을 목표로 해도 좋습니다.\n",
    "4. 모자란 부분에 대해서는 이후 프로젝트를 통해서 연계해 나가도 좋으며 이런 부분은 '한계점 및 추후 발전 방향' 등을 통해 제시해 주어도 됩니다."
   ]
  },
  {
   "cell_type": "markdown",
   "metadata": {
    "id": "I7k3b2UjvjAC"
   },
   "source": [
    "## 주제 : 의류직물 불량검출을 위한 이미지 분석"
   ]
  },
  {
   "cell_type": "markdown",
   "metadata": {
    "id": "sXt4lmBIv4ti"
   },
   "source": [
    "### * 환경 세팅"
   ]
  },
  {
   "cell_type": "code",
   "execution_count": 2,
   "metadata": {},
   "outputs": [
    {
     "data": {
      "text/plain": [
       "'C:\\\\Users\\\\doiny\\\\Desktop\\\\jupyter\\\\project_S4'"
      ]
     },
     "execution_count": 2,
     "metadata": {},
     "output_type": "execute_result"
    }
   ],
   "source": [
    "pwd"
   ]
  },
  {
   "cell_type": "code",
   "execution_count": 3,
   "metadata": {
    "colab": {
     "base_uri": "https://localhost:8080/"
    },
    "id": "LdadftWgqGlG",
    "outputId": "8be1d48e-3203-4e82-9b66-9d183a197d7d",
    "scrolled": true
   },
   "outputs": [
    {
     "name": "stdout",
     "output_type": "stream",
     "text": [
      "Requirement already satisfied: opencv-python in c:\\users\\doiny\\anaconda3\\lib\\site-packages (4.5.5.62)\n",
      "Requirement already satisfied: numpy>=1.17.3 in c:\\users\\doiny\\anaconda3\\lib\\site-packages (from opencv-python) (1.21.2)\n"
     ]
    }
   ],
   "source": [
    "!pip install opencv-python"
   ]
  },
  {
   "cell_type": "code",
   "execution_count": 4,
   "metadata": {
    "id": "aS3T-rCqvEH_"
   },
   "outputs": [],
   "source": [
    "import cv2\n",
    "import os\n",
    "import glob\n",
    "import shutil\n",
    "import random\n",
    "import string\n",
    "import numpy as np"
   ]
  },
  {
   "cell_type": "code",
   "execution_count": 19,
   "metadata": {
    "colab": {
     "base_uri": "https://localhost:8080/"
    },
    "id": "5JfTy1JcMMWU",
    "outputId": "603a6838-1c37-4308-cd6a-afed26ad8222"
   },
   "outputs": [],
   "source": [
    "PATH_DEFECT = 'dataset/Defect_images/'\n",
    "PATH_MASK = 'dataset/Mask_images/'\n",
    "PATH_NODEFECT = 'dataset/NODefect_images/'"
   ]
  },
  {
   "cell_type": "code",
   "execution_count": 38,
   "metadata": {
    "id": "Se5zwekVvskG"
   },
   "outputs": [
    {
     "data": {
      "text/plain": [
       "\"new_defect_list = list()\\nnew_mask_list = list()\\nfor defect in defect_list:\\n    num = defect.split('/')[-1].split('_')[0]\\n    for mask in mask_list:\\n        num_mask = mask.split('/')[-1].split('_')[0]\\n        if num == num_mask:\\n            new_defect_list.append(defect)\\n            new_mask_list.append(mask)\\n            break\\ndefect_list = new_defect_list\\nmask_list = new_mask_list\""
      ]
     },
     "execution_count": 38,
     "metadata": {},
     "output_type": "execute_result"
    }
   ],
   "source": [
    "# 데이터셋 불러오기\n",
    "\n",
    "random.seed(0)\n",
    "\n",
    "defect_list = glob.glob(PATH_DEFECT + '*.png')\n",
    "mask_list = glob.glob(PATH_MASK + '*.png')\n",
    "pass_list = glob.glob(PATH_NODEFECT + '**/*.png')\n",
    "\n",
    "# Match defect-mask pairs\n",
    "'''new_defect_list = list()\n",
    "new_mask_list = list()\n",
    "for defect in defect_list:\n",
    "    num = defect.split('/')[-1].split('_')[0]\n",
    "    for mask in mask_list:\n",
    "        num_mask = mask.split('/')[-1].split('_')[0]\n",
    "        if num == num_mask:\n",
    "            new_defect_list.append(defect)\n",
    "            new_mask_list.append(mask)\n",
    "            break\n",
    "defect_list = new_defect_list\n",
    "mask_list = new_mask_list'''"
   ]
  },
  {
   "cell_type": "code",
   "execution_count": 39,
   "metadata": {
    "colab": {
     "base_uri": "https://localhost:8080/"
    },
    "id": "K_bH90KDwCU7",
    "outputId": "a72c76b8-7903-4327-d873-2b7dcf2bb2e0"
   },
   "outputs": [],
   "source": [
    "# 첫 발송 데이터 생성\n",
    "\n",
    "if os.path.exists('dataset/1') is False:\n",
    "    os.mkdir('dataset/1')\n",
    "for file_name in pass_list + defect_list:\n",
    "    if random.randint(0, 9) < 2:\n",
    "        barcode = ''.join(random.choices(string.ascii_letters + string.digits, k=16))\n",
    "        shutil.copy2(file_name, 'dataset/1/' + barcode + '.png')"
   ]
  },
  {
   "cell_type": "code",
   "execution_count": 40,
   "metadata": {
    "id": "jDcG17gmwKfF"
   },
   "outputs": [],
   "source": [
    "# 두번째 데이터 생성\n",
    "\n",
    "if os.path.exists('dataset/2') is False:\n",
    "    os.mkdir('dataset/2')\n",
    "if os.path.exists('dataset/2/OK') is False:\n",
    "    os.mkdir('dataset/2/OK')\n",
    "if os.path.exists('dataset/2/FAIL') is False:\n",
    "    os.mkdir('dataset/2/FAIL')\n",
    "idx = 0\n",
    "for file_name in pass_list:\n",
    "    img = cv2.imread(file_name)\n",
    "    height, width, _ = img.shape\n",
    "    step = height // 2\n",
    "\n",
    "    for i in range(width // step):\n",
    "        w = i * step\n",
    "        if w < width - height and random.randint(0, 9) < 2:\n",
    "            patch = img[:, w:w+height, :]\n",
    "            cv2.imwrite('dataset/2/OK/%04d.png' % idx, patch)\n",
    "            idx += 1 \n",
    "\n",
    "patch_list = list()\n",
    "for item in zip(defect_list, mask_list):\n",
    "    defect, mask = item\n",
    "\n",
    "    img_d = cv2.imread(defect)\n",
    "    img_m = cv2.imread(mask)\n",
    "\n",
    "    height, width, _ = img_d.shape\n",
    "    step = height // 2\n",
    "    for i in range(width // step):\n",
    "        w = i * step\n",
    "        if w < width - height:\n",
    "            patch = img_d[:, w:w+height, :]\n",
    "            patch_d = img_m[:, w:w+height, :]\n",
    "            if patch_d.sum() > 0:\n",
    "                patch_list.append(patch)\n",
    "\n",
    "random.shuffle(patch_list)\n",
    "patch_list_fraction = patch_list[:len(patch_list)//3]\n",
    "for idx, patch in enumerate(patch_list_fraction):\n",
    "    cv2.imwrite('dataset/2/FAIL/%04d.png' % idx, patch)"
   ]
  },
  {
   "cell_type": "code",
   "execution_count": 41,
   "metadata": {
    "colab": {
     "base_uri": "https://localhost:8080/",
     "height": 236
    },
    "id": "NBvn2JjnwNCR",
    "outputId": "608ff8c4-ddd4-4fb1-d43c-6bdaccb67133"
   },
   "outputs": [],
   "source": [
    "# 세번째 데이터 생성\n",
    "\n",
    "if os.path.exists('dataset/3') is False:\n",
    "    os.mkdir('dataset/3')\n",
    "if os.path.exists('dataset/3/OK') is False:\n",
    "    os.mkdir('dataset/3/OK')\n",
    "if os.path.exists('dataset/3/FAIL') is False:\n",
    "    os.mkdir('dataset/3/FAIL')\n",
    "if os.path.exists('dataset/3/MASK') is False:\n",
    "    os.mkdir('dataset/3/MASK')\n",
    "idx = 0\n",
    "for file_name in pass_list:\n",
    "    img = cv2.imread(file_name)\n",
    "    height, width, _ = img.shape\n",
    "    step = height // 2\n",
    "\n",
    "    for i in range(width // step):\n",
    "        w = i * step\n",
    "        if w < width - height and random.randint(0, 9) < 3:\n",
    "            patch = img[:, w:w+height, :]\n",
    "            cv2.imwrite('dataset/3/OK/%04d.png' % idx, patch)\n",
    "            idx += 1 \n",
    "\n",
    "patch_pair_list = list()\n",
    "for item in zip(defect_list, mask_list):\n",
    "    defect, mask = item\n",
    "\n",
    "    img_d = cv2.imread(defect)\n",
    "    img_m = cv2.imread(mask)\n",
    "\n",
    "    height, width, _ = img_d.shape\n",
    "    step = height // 2\n",
    "    for i in range(width // step):\n",
    "        w = i * step\n",
    "        if w < width - height:\n",
    "            patch = img_d[:, w:w+height, :]\n",
    "            patch_d = img_m[:, w:w+height, :]\n",
    "\n",
    "            if patch_d.sum() > 0:\n",
    "                patch_pair_list.append((patch, patch_d))\n",
    "\n",
    "random.shuffle(patch_pair_list)\n",
    "for idx, pair in enumerate(patch_pair_list):\n",
    "    patch, patch_d = pair\n",
    "    cv2.imwrite('dataset/3/FAIL/%04d.png' % idx, patch)\n",
    "    cv2.imwrite('dataset/3/MASK/%04d.png' % idx, patch_d)"
   ]
  },
  {
   "cell_type": "code",
   "execution_count": 42,
   "metadata": {
    "id": "R-XM2BppwPFR"
   },
   "outputs": [],
   "source": [
    "# 최종 데이터 생성\n",
    "\n",
    "if os.path.exists('data/input_data') is False:\n",
    "    os.mkdir('data/input_data')\n",
    "if os.path.exists('data/output_csv') is False:\n",
    "    os.mkdir('data/output_csv')\n",
    "    \n",
    "idx = 0\n",
    "for file_name in pass_list:\n",
    "    img = cv2.imread(file_name)\n",
    "    height, width, _ = img.shape\n",
    "    step = height // 2\n",
    "\n",
    "    for i in range(width // step):\n",
    "        w = i * step\n",
    "        if w < width - height and random.randint(0, 9) < 5:\n",
    "            patch = img[:, w:w+height, :]\n",
    "            cv2.imwrite('data/input_data/ok_%04d.png' % idx, patch)\n",
    "            idx += 1 \n",
    "\n",
    "patch_pair_list = list()\n",
    "for item in zip(defect_list, mask_list):\n",
    "    defect, mask = item\n",
    "\n",
    "    img_d = cv2.imread(defect)\n",
    "    img_m = cv2.imread(mask)\n",
    "\n",
    "    height, width, _ = img_d.shape\n",
    "    step = height // 2\n",
    "    for i in range(width // step):\n",
    "        w = i * step\n",
    "        if w < width - height:\n",
    "            patch = img_d[:, w:w+height, :]\n",
    "            patch_d = img_m[:, w:w+height, :]\n",
    "\n",
    "            if patch_d.sum() > 0:\n",
    "                patch_pair_list.append((patch, patch_d))\n",
    "\n",
    "random.shuffle(patch_pair_list)\n",
    "for idx, pair in enumerate(patch_pair_list):\n",
    "    patch, patch_d = pair\n",
    "    cv2.imwrite('data/input_data/fail_%04d.png' % idx, patch)"
   ]
  },
  {
   "cell_type": "markdown",
   "metadata": {
    "id": "wVR-mfovyTV-"
   },
   "source": [
    "## 1. 모델 설정"
   ]
  },
  {
   "cell_type": "code",
   "execution_count": 43,
   "metadata": {
    "id": "aTtX46CIyWG4"
   },
   "outputs": [],
   "source": [
    "import glob\n",
    "import os\n",
    "import tensorflow as tf\n",
    "import cv2\n",
    "from tensorflow.keras.layers import Conv2D, MaxPool2D, Flatten, Dense\n",
    "from tensorflow.keras.models import Sequential"
   ]
  },
  {
   "cell_type": "code",
   "execution_count": 44,
   "metadata": {
    "id": "Wpd-utaEyXqC"
   },
   "outputs": [],
   "source": [
    "# 하이퍼파라미터\n",
    "\n",
    "EPOCHS = 10\n",
    "\n",
    "DATASET_PATH = 'dataset/2/'\n",
    "DATASET_OK_PATTERN = DATASET_PATH + 'OK/*.png'\n",
    "DATASET_FAIL_PATTERN = DATASET_PATH + 'FAIL/*.png'\n",
    "\n",
    "RESULT_SAVE_PATH = 'results/'"
   ]
  },
  {
   "cell_type": "code",
   "execution_count": 45,
   "metadata": {
    "id": "UZIeeFjYyeVU"
   },
   "outputs": [],
   "source": [
    "# 모델 설정\n",
    "\n",
    "def Model():\n",
    "    return Sequential([Conv2D(32, (3, 3), activation='relu', input_shape=(256, 256, 1)),\n",
    "                       MaxPool2D(),\n",
    "                       Conv2D(64, (3, 3), activation='relu'),\n",
    "                       MaxPool2D(),\n",
    "                       Conv2D(128, (3, 3), activation='relu'),\n",
    "                       MaxPool2D(),\n",
    "                       Conv2D(256, (3, 3), activation='relu'),\n",
    "                       MaxPool2D(),\n",
    "                       Flatten(),\n",
    "                       Dense(1, activation='sigmoid')]) # 이진분류"
   ]
  },
  {
   "cell_type": "code",
   "execution_count": 46,
   "metadata": {
    "id": "TeehRWFYynRk"
   },
   "outputs": [],
   "source": [
    "# 데이터셋 불러오기\n",
    " \n",
    "def preprocess(file_name):\n",
    "    img = tf.io.read_file(file_name)\n",
    "    img = tf.image.decode_png(img, channels=1)\n",
    "    return tf.image.convert_image_dtype(img, tf.float32)"
   ]
  },
  {
   "cell_type": "code",
   "execution_count": 48,
   "metadata": {
    "id": "vQ3pMH8uyo0R"
   },
   "outputs": [
    {
     "data": {
      "text/plain": [
       "<ConcatenateDataset shapes: ((None, None, 1), ()), types: (tf.float32, tf.int32)>"
      ]
     },
     "execution_count": 48,
     "metadata": {},
     "output_type": "execute_result"
    }
   ],
   "source": [
    "ok_list = glob.glob(DATASET_OK_PATTERN)\n",
    "ds_ok = tf.data.Dataset.list_files(ok_list)\n",
    "ds_ok_label = tf.data.Dataset.from_tensor_slices([0] * len(ok_list))\n",
    "# comprehension -> [0 for _ in range(len(ok_list))] \n",
    "\n",
    "ds_ok = ds_ok.map(preprocess)\n",
    "ds_ok = tf.data.Dataset.zip((ds_ok, ds_ok_label))\n",
    "\n",
    "fail_list = glob.glob(DATASET_FAIL_PATTERN)\n",
    "ds_fail = tf.data.Dataset.list_files(fail_list)\n",
    "ds_fail_label = tf.data.Dataset.from_tensor_slices([1] * len(fail_list))\n",
    "\n",
    "ds_fail = ds_fail.map(preprocess)\n",
    "ds_fail = tf.data.Dataset.zip((ds_fail, ds_fail_label))\n",
    "\n",
    "ds = tf.data.Dataset.concatenate(ds_ok, ds_fail)\n",
    "\n",
    "ds"
   ]
  },
  {
   "cell_type": "code",
   "execution_count": 49,
   "metadata": {
    "id": "uHgKb8wtyrYV"
   },
   "outputs": [],
   "source": [
    "# train, val 데이터셋 나누기\n",
    "\n",
    "ds_size = len(ok_list) + len(fail_list)\n",
    "train_size = int(ds_size * 0.7)\n",
    "\n",
    "ds = ds.shuffle(ds_size) #얼마나 모아서 섞어줄 것인가\n",
    "ds_train = ds.take(train_size).shuffle(1024, reshuffle_each_iteration=True).batch(32)\n",
    "ds_valid = ds.skip(train_size).batch(32)"
   ]
  },
  {
   "cell_type": "code",
   "execution_count": 50,
   "metadata": {
    "id": "j_0b4zBey18W"
   },
   "outputs": [],
   "source": [
    "# 모델 생성 및 학습\n",
    "\n",
    "model = Model()\n",
    "model.compile(optimizer='adam',\n",
    "              loss='binary_crossentropy',\n",
    "              metrics=['accuracy'])"
   ]
  },
  {
   "cell_type": "code",
   "execution_count": 51,
   "metadata": {
    "id": "nZaD_u4dy8wy"
   },
   "outputs": [
    {
     "name": "stdout",
     "output_type": "stream",
     "text": [
      "Epoch 1/10\n",
      "21/21 [==============================] - 31s 1s/step - loss: 0.4669 - accuracy: 0.8716 - val_loss: 0.4096 - val_accuracy: 0.9085\n",
      "Epoch 2/10\n",
      "21/21 [==============================] - 30s 1s/step - loss: 0.3897 - accuracy: 0.8776 - val_loss: 0.3249 - val_accuracy: 0.8908\n",
      "Epoch 3/10\n",
      "21/21 [==============================] - 31s 1s/step - loss: 0.3779 - accuracy: 0.8716 - val_loss: 0.3393 - val_accuracy: 0.8908\n",
      "Epoch 4/10\n",
      "21/21 [==============================] - 31s 1s/step - loss: 0.3571 - accuracy: 0.8761 - val_loss: 0.3534 - val_accuracy: 0.8838\n",
      "Epoch 5/10\n",
      "21/21 [==============================] - 30s 1s/step - loss: 0.3515 - accuracy: 0.8792 - val_loss: 0.4400 - val_accuracy: 0.8451\n",
      "Epoch 6/10\n",
      "21/21 [==============================] - 29s 1s/step - loss: 0.3403 - accuracy: 0.8776 - val_loss: 0.3642 - val_accuracy: 0.8803\n",
      "Epoch 7/10\n",
      "21/21 [==============================] - 29s 1s/step - loss: 0.3629 - accuracy: 0.8671 - val_loss: 0.3914 - val_accuracy: 0.8662\n",
      "Epoch 8/10\n",
      "21/21 [==============================] - 29s 1s/step - loss: 0.3444 - accuracy: 0.8746 - val_loss: 0.3230 - val_accuracy: 0.8803\n",
      "Epoch 9/10\n",
      "21/21 [==============================] - 29s 1s/step - loss: 0.3263 - accuracy: 0.8610 - val_loss: 0.2801 - val_accuracy: 0.8838\n",
      "Epoch 10/10\n",
      "21/21 [==============================] - 29s 1s/step - loss: 0.2921 - accuracy: 0.9003 - val_loss: 0.3417 - val_accuracy: 0.8732\n"
     ]
    },
    {
     "data": {
      "text/plain": [
       "<keras.callbacks.History at 0x22a27c82c70>"
      ]
     },
     "execution_count": 51,
     "metadata": {},
     "output_type": "execute_result"
    }
   ],
   "source": [
    "model.fit(ds_train, validation_data=ds_valid, epochs=EPOCHS)"
   ]
  },
  {
   "cell_type": "code",
   "execution_count": 52,
   "metadata": {
    "id": "gUpv7lV_y-L2"
   },
   "outputs": [],
   "source": [
    "# 결과를 이미지로 저장\n",
    "\n",
    "def mkdir(path):\n",
    "    if os.path.exists(path) is False: # 있는 경우 오류 발생 확률이 있기 때문에\n",
    "        os.mkdir(path)\n",
    "\n",
    "mkdir(RESULT_SAVE_PATH)\n",
    "mkdir(RESULT_SAVE_PATH + '/TP')\n",
    "mkdir(RESULT_SAVE_PATH + '/TN')\n",
    "mkdir(RESULT_SAVE_PATH + '/FP')\n",
    "mkdir(RESULT_SAVE_PATH + '/FN')\n",
    "\n",
    "index = 0\n",
    "for imgs, labels in ds_valid:\n",
    "    preds = model.predict(imgs)\n",
    "    for idx in range(imgs.shape[0]):\n",
    "        gt = labels[idx].numpy()\n",
    "        y = preds[idx]\n",
    "        \n",
    "        if gt == 1 and y > 0.5:\n",
    "            path = RESULT_SAVE_PATH + '/TP'\n",
    "        elif gt == 1 and y <= 0.5:\n",
    "            path = RESULT_SAVE_PATH + '/FN'\n",
    "        elif gt == 0 and y > 0.5:\n",
    "            path = RESULT_SAVE_PATH + '/FP'\n",
    "        else:\n",
    "            path = RESULT_SAVE_PATH + '/TN'\n",
    "            \n",
    "        cv2.imwrite(path + '/%.4f_%04d.png' % (y, index), imgs[idx].numpy() * 255)\n",
    "        index +=1"
   ]
  },
  {
   "cell_type": "markdown",
   "metadata": {
    "id": "YIa5kjnrzDa2"
   },
   "source": [
    "## 2. 데이터 정리"
   ]
  },
  {
   "cell_type": "code",
   "execution_count": 1,
   "metadata": {
    "id": "9tma-OsOzPJm"
   },
   "outputs": [],
   "source": [
    "# TFRecord Builder\n",
    "\n",
    "import glob\n",
    "import os\n",
    "import tensorflow as tf\n",
    "import cv2"
   ]
  },
  {
   "cell_type": "code",
   "execution_count": 2,
   "metadata": {
    "id": "j6MkhuHMzXQv"
   },
   "outputs": [],
   "source": [
    "# 경로 및 하이퍼파라미터\n",
    "# 일부분만 작업 가능\n",
    "\n",
    "DATASET_OK_PATTERN = 'dataset/3/OK/*.png'\n",
    "DATASET_FAIL_PATTERN = 'dataset/3/FAIL/*.png'\n",
    "\n",
    "TFRECORD_PATH = 'tfrecords/'\n",
    "IMAGE_PER_TFRECORD = 100"
   ]
  },
  {
   "cell_type": "code",
   "execution_count": 3,
   "metadata": {
    "id": "ce33wP9Czbao"
   },
   "outputs": [],
   "source": [
    "# import data\n",
    "\n",
    "ok_list = glob.glob(DATASET_OK_PATTERN)\n",
    "fail_list = glob.glob(DATASET_FAIL_PATTERN)\n",
    "\n",
    "num_ok = len(ok_list)\n",
    "num_fail = len(fail_list)\n",
    "\n",
    "# Oversampling # 이진분류 밸런스를 위해\n",
    "fail_list_new = list()\n",
    "for _ in range(num_ok // num_fail):\n",
    "    fail_list_new += fail_list\n",
    "fail_list_new += fail_list[: num_ok % num_fail]\n",
    "fail_list = fail_list_new\n",
    "\n",
    "ok_label = [0] * len(ok_list)\n",
    "fail_label = [1] * len(fail_list)\n",
    "\n",
    "file_list = ok_list + fail_list\n",
    "label_list = ok_label + fail_label"
   ]
  },
  {
   "cell_type": "code",
   "execution_count": 4,
   "metadata": {
    "id": "4TVEBVjPzfhA"
   },
   "outputs": [],
   "source": [
    "# TFRecord functions\n",
    "# 이미지와 레이블\n",
    "\n",
    "def _bytes_feature(value):\n",
    "    \"\"\"Returns a bytes_list from a string / byte.\"\"\"\n",
    "    if isinstance(value, type(tf.constant(0))):\n",
    "        value = value.numpy() # BytesList won't unpack a string from an EagerTensor.\n",
    "    return tf.train.Feature(bytes_list=tf.train.BytesList(value=[value]))\n",
    "\n",
    "def _int64_feature(value):\n",
    "    \"\"\"Returns an int64_list from a bool / enum / int / uint.\"\"\"\n",
    "    return tf.train.Feature(int64_list=tf.train.Int64List(value=[value]))\n",
    "\n",
    "def image_example(image_string, label):\n",
    "    image_shape = tf.image.decode_image(image_string).shape\n",
    "\n",
    "    feature = {\n",
    "        'height': _int64_feature(image_shape[0]),\n",
    "        'width': _int64_feature(image_shape[1]),\n",
    "        'depth': _int64_feature(image_shape[2]),\n",
    "        'label': _int64_feature(label),\n",
    "        'image_raw': _bytes_feature(image_string),\n",
    "    }\n",
    "\n",
    "    return tf.train.Example(features=tf.train.Features(feature=feature))"
   ]
  },
  {
   "cell_type": "code",
   "execution_count": 5,
   "metadata": {
    "id": "tz33gHPWzi-A"
   },
   "outputs": [],
   "source": [
    "# TFRecords 작성\n",
    "\n",
    "if os.path.exists(TFRECORD_PATH) is False:\n",
    "    os.mkdir(TFRECORD_PATH)\n",
    "\n",
    "num_tfrecords = len(file_list) // IMAGE_PER_TFRECORD\n",
    "if len(file_list) % IMAGE_PER_TFRECORD != 0:\n",
    "    num_tfrecords += 1\n",
    "\n",
    "for idx in range(num_tfrecords):\n",
    "    idx0 = idx * IMAGE_PER_TFRECORD\n",
    "    idx1 = idx0 + IMAGE_PER_TFRECORD\n",
    "    record_file = TFRECORD_PATH + '%05d.tfrecords' % idx\n",
    "    with tf.io.TFRecordWriter(record_file) as writer:\n",
    "        for filename, label in zip(file_list[idx0:idx1],\n",
    "                                   label_list[idx0:idx1]):\n",
    "            image_string = open(filename, 'rb').read()\n",
    "            tf_example = image_example(image_string, label)\n",
    "            writer.write(tf_example.SerializeToString())"
   ]
  },
  {
   "cell_type": "markdown",
   "metadata": {
    "id": "ry1DVMTPzw3t"
   },
   "source": [
    "## 3. 모델 학습 및 검증"
   ]
  },
  {
   "cell_type": "code",
   "execution_count": 7,
   "metadata": {},
   "outputs": [
    {
     "name": "stdout",
     "output_type": "stream",
     "text": [
      "Collecting tensorflow-addons\n",
      "  Downloading tensorflow_addons-0.15.0-cp38-cp38-win_amd64.whl (753 kB)\n",
      "Collecting typeguard>=2.7\n",
      "  Downloading typeguard-2.13.3-py3-none-any.whl (17 kB)\n",
      "Installing collected packages: typeguard, tensorflow-addons\n",
      "Successfully installed tensorflow-addons-0.15.0 typeguard-2.13.3\n",
      "Note: you may need to restart the kernel to use updated packages.\n"
     ]
    }
   ],
   "source": [
    "pip install tensorflow-addons"
   ]
  },
  {
   "cell_type": "code",
   "execution_count": 8,
   "metadata": {
    "id": "XNB_lF9X0Alk"
   },
   "outputs": [],
   "source": [
    "# 모델 학습\n",
    "\n",
    "import glob\n",
    "import os\n",
    "import tensorflow as tf\n",
    "import tensorflow_addons as tfa\n",
    "import matplotlib.pyplot as plt\n",
    "import cv2\n",
    "from tensorflow.keras.layers import Conv2D, MaxPool2D, Concatenate, Flatten, Dense"
   ]
  },
  {
   "cell_type": "code",
   "execution_count": 17,
   "metadata": {
    "id": "2DHJkrAl0EWi"
   },
   "outputs": [],
   "source": [
    "# 하이퍼파라미터\n",
    "\n",
    "EPOCHS = 100\n",
    "RESULT_SAVE_PATH = 'results/'"
   ]
  },
  {
   "cell_type": "code",
   "execution_count": 10,
   "metadata": {
    "id": "b9SmARNT0IMa"
   },
   "outputs": [],
   "source": [
    "# Inception-based 모델 정의\n",
    "\n",
    "def Model():\n",
    "    def inception(filters):\n",
    "        def subnetwork(x):\n",
    "            h1 = Conv2D(filters, (1, 1), padding='same', activation='relu')(x)\n",
    "            h1 = MaxPool2D()(h1)\n",
    "            \n",
    "            # bottleneck layer - 적은 파라미터를 이용해 동일한 receptivefield 확보 가능\n",
    "            h2 = Conv2D(filters // 2, (1, 1), padding='same', activation='relu')(x)\n",
    "            h2 = Conv2D(filters, (3, 3), padding='same', activation='relu')(h2)\n",
    "            h2 = MaxPool2D()(h2)\n",
    "            \n",
    "            h3 = Conv2D(filters // 2, (1, 1), padding='same', activation='relu')(x)\n",
    "            h3 = Conv2D(filters, (5, 5), padding='same', activation='relu')(h3)\n",
    "            h3 = MaxPool2D()(h3)\n",
    "            return Concatenate()([h1, h2, h3])\n",
    "        return subnetwork\n",
    "    \n",
    "    x = tf.keras.Input(shape=(256, 256, 3))\n",
    "    h = inception(16)(x)\n",
    "    h = inception(32)(h)\n",
    "    h = inception(32)(h)\n",
    "    h = inception(32)(h)\n",
    "    h = inception(32)(h)\n",
    "    h = Flatten()(h)\n",
    "    h = Dense(1024, activation='relu')(h)\n",
    "    y = Dense(1, activation='sigmoid')(h)\n",
    "    return tf.keras.Model(inputs=x, outputs=y)"
   ]
  },
  {
   "cell_type": "code",
   "execution_count": 11,
   "metadata": {
    "id": "vgM8Ep_U0NR7"
   },
   "outputs": [],
   "source": [
    "# 데이터 전처리 함수 정의\n",
    "\n",
    "def preprocess(img):\n",
    "    return tf.image.convert_image_dtype(img, tf.float32)"
   ]
  },
  {
   "cell_type": "code",
   "execution_count": 12,
   "metadata": {
    "id": "fULU_VZO0SoS"
   },
   "outputs": [],
   "source": [
    "# 데이터 Augmentation 함수 정의 \n",
    "# train set에만 이용 \n",
    "# label과 맵핑 전 정의\n",
    "# 여러 에폭에 다양한 경우의 수를 훈련 가능\n",
    "\n",
    "def augmentation(img, label):\n",
    "    def flip(x):\n",
    "        x = tf.image.random_flip_left_right(x) # 25% / 25%\n",
    "        x = tf.image.random_flip_up_down(x) # 25% / 25%\n",
    "        return x\n",
    "    \n",
    "    def rotate(x):\n",
    "        x = tf.cond(tf.random.uniform(shape=[], minval=0.0, maxval=1.0, dtype=tf.float32) > 0.5,\n",
    "                   lambda: tfa.image.rotate(x,\n",
    "                                       tf.random.uniform(shape=[], minval=0.0, maxval=360.0, dtype=tf.float32),\n",
    "                                       interpolation='BILINEAR'),\n",
    "                   lambda: x) # 50% 확률로 랜덤하게 출력\n",
    "        return x\n",
    "    \n",
    "    def translation(x):\n",
    "        dx = tf.random.uniform(shape=[], minval=-10.0, maxval=10.0, dtype=tf.float32)\n",
    "        dy = tf.random.uniform(shape=[], minval=-10.0, maxval=10.0, dtype=tf.float32)\n",
    "        x = tf.cond(tf.random.uniform(shape=[], minval=0.0, maxval=1.0, dtype=tf.float32) > 0.5,\n",
    "                    lambda: tfa.image.transform(x,\n",
    "                                                [0, 0, dx, 0, 0, dy, 0, 0], # x, y, translation\n",
    "                                                interpolation='BILINEAR'),\n",
    "                    lambda: x) # 50% 확률로 랜덤하게 출력\n",
    "        return x\n",
    "    \n",
    "    img = flip(img)\n",
    "    img = rotate(img)\n",
    "    img = translation(img)\n",
    "           \n",
    "    return img, label"
   ]
  },
  {
   "cell_type": "code",
   "execution_count": 13,
   "metadata": {
    "id": "-FD2a3ab0Xzm"
   },
   "outputs": [],
   "source": [
    "# TFRecords 불러오기\n",
    "\n",
    "tffiles = glob.glob('tfrecords/*')\n",
    "raw_image_dataset = tf.data.TFRecordDataset(tffiles) # 데이터셋 생성\n",
    "\n",
    "image_feature_description = {\n",
    "    'height': tf.io.FixedLenFeature([], tf.int64),\n",
    "    'width': tf.io.FixedLenFeature([], tf.int64),\n",
    "    'depth': tf.io.FixedLenFeature([], tf.int64),\n",
    "    'label': tf.io.FixedLenFeature([], tf.int64),\n",
    "    'image_raw': tf.io.FixedLenFeature([], tf.string),\n",
    "}\n",
    "\n",
    "def _parse_image_function(example_proto):\n",
    "    return tf.io.parse_single_example(example_proto, image_feature_description)\n",
    "\n",
    "def _parse_image_label(parsed_dataset):\n",
    "    return preprocess(tf.image.decode_png(parsed_dataset['image_raw'])), parsed_dataset['label']\n",
    "\n",
    "parsed_image_dataset = raw_image_dataset.map(_parse_image_function)\n",
    "dataset = parsed_image_dataset.map(_parse_image_label)"
   ]
  },
  {
   "cell_type": "code",
   "execution_count": 14,
   "metadata": {
    "id": "wrlSCcZa0bu1"
   },
   "outputs": [],
   "source": [
    "# 데이터셋 나누기\n",
    "\n",
    "ds_size = 0\n",
    "for _ in dataset:\n",
    "    ds_size += 1\n",
    "\n",
    "train_size = int(ds_size * 0.7)\n",
    "\n",
    "ds = dataset.shuffle(ds_size)\n",
    "ds_train = ds.take(train_size).shuffle(1024, reshuffle_each_iteration=True).prefetch(1024).batch(32).map(augmentation)\n",
    "ds_valid = ds.skip(train_size).prefetch(1024).batch(32)"
   ]
  },
  {
   "cell_type": "code",
   "execution_count": 15,
   "metadata": {
    "id": "wFYpDym-0fWH"
   },
   "outputs": [],
   "source": [
    "# 모델 생성\n",
    "\n",
    "model = Model()\n",
    "model.compile(optimizer='adam',\n",
    "              loss='binary_crossentropy',\n",
    "              metrics=['accuracy'])"
   ]
  },
  {
   "cell_type": "code",
   "execution_count": 18,
   "metadata": {
    "id": "A-Qh-AJG0l4D"
   },
   "outputs": [
    {
     "name": "stdout",
     "output_type": "stream",
     "text": [
      "Epoch 1/100\n",
      "55/55 [==============================] - 361s 7s/step - loss: 0.6445 - accuracy: 0.5732 - val_loss: 0.4792 - val_accuracy: 0.7644\n",
      "Epoch 2/100\n",
      "55/55 [==============================] - 373s 7s/step - loss: 0.6021 - accuracy: 0.5807 - val_loss: 0.4634 - val_accuracy: 0.7684\n",
      "Epoch 3/100\n",
      "55/55 [==============================] - 372s 7s/step - loss: 0.5860 - accuracy: 0.6312 - val_loss: 0.5024 - val_accuracy: 0.7403\n",
      "Epoch 4/100\n",
      "55/55 [==============================] - 380s 7s/step - loss: 0.6046 - accuracy: 0.5945 - val_loss: 0.4917 - val_accuracy: 0.7443\n",
      "Epoch 5/100\n",
      "55/55 [==============================] - 381s 7s/step - loss: 0.6066 - accuracy: 0.6111 - val_loss: 0.4169 - val_accuracy: 0.8046\n",
      "Epoch 6/100\n",
      "55/55 [==============================] - 383s 7s/step - loss: 0.5857 - accuracy: 0.6554 - val_loss: 0.4293 - val_accuracy: 0.7564\n",
      "Epoch 7/100\n",
      "55/55 [==============================] - 383s 7s/step - loss: 0.6011 - accuracy: 0.6031 - val_loss: 0.4608 - val_accuracy: 0.7684\n",
      "Epoch 8/100\n",
      "55/55 [==============================] - 389s 7s/step - loss: 0.5441 - accuracy: 0.6766 - val_loss: 0.4978 - val_accuracy: 0.7443\n",
      "Epoch 9/100\n",
      "55/55 [==============================] - 434s 8s/step - loss: 0.5646 - accuracy: 0.6594 - val_loss: 0.5208 - val_accuracy: 0.7456\n",
      "Epoch 10/100\n",
      "55/55 [==============================] - 404s 7s/step - loss: 0.5777 - accuracy: 0.6358 - val_loss: 0.4289 - val_accuracy: 0.7845\n",
      "Epoch 11/100\n",
      "55/55 [==============================] - 403s 7s/step - loss: 0.6080 - accuracy: 0.6065 - val_loss: 0.4712 - val_accuracy: 0.7510\n",
      "Epoch 12/100\n",
      "55/55 [==============================] - 429s 8s/step - loss: 0.5839 - accuracy: 0.6353 - val_loss: 0.4483 - val_accuracy: 0.7751\n",
      "Epoch 13/100\n",
      "55/55 [==============================] - 410s 7s/step - loss: 0.5495 - accuracy: 0.6669 - val_loss: 0.3958 - val_accuracy: 0.7992\n",
      "Epoch 14/100\n",
      "55/55 [==============================] - 448s 8s/step - loss: 0.5852 - accuracy: 0.6272 - val_loss: 0.4202 - val_accuracy: 0.7805\n",
      "Epoch 15/100\n",
      "55/55 [==============================] - 454s 8s/step - loss: 0.5767 - accuracy: 0.6249 - val_loss: 0.4099 - val_accuracy: 0.7979\n",
      "Epoch 16/100\n",
      "55/55 [==============================] - 467s 8s/step - loss: 0.5860 - accuracy: 0.6244 - val_loss: 0.4304 - val_accuracy: 0.7845\n",
      "Epoch 17/100\n",
      "55/55 [==============================] - 448s 8s/step - loss: 0.5379 - accuracy: 0.6720 - val_loss: 0.4424 - val_accuracy: 0.8032\n",
      "Epoch 18/100\n",
      "55/55 [==============================] - 421s 8s/step - loss: 0.5571 - accuracy: 0.6479 - val_loss: 0.4290 - val_accuracy: 0.7952\n",
      "Epoch 19/100\n",
      "55/55 [==============================] - 420s 8s/step - loss: 0.5948 - accuracy: 0.6152 - val_loss: 0.4905 - val_accuracy: 0.7403\n",
      "Epoch 20/100\n",
      "55/55 [==============================] - 424s 8s/step - loss: 0.5561 - accuracy: 0.6657 - val_loss: 0.4359 - val_accuracy: 0.7764\n",
      "Epoch 21/100\n",
      "55/55 [==============================] - 509s 9s/step - loss: 0.5358 - accuracy: 0.6594 - val_loss: 0.4041 - val_accuracy: 0.8046\n",
      "Epoch 22/100\n",
      "55/55 [==============================] - 504s 9s/step - loss: 0.6112 - accuracy: 0.6083 - val_loss: 0.4434 - val_accuracy: 0.7885\n",
      "Epoch 23/100\n",
      "55/55 [==============================] - 480s 9s/step - loss: 0.5795 - accuracy: 0.6215 - val_loss: 0.3925 - val_accuracy: 0.8286\n",
      "Epoch 24/100\n",
      "55/55 [==============================] - 505s 9s/step - loss: 0.5673 - accuracy: 0.6496 - val_loss: 0.4098 - val_accuracy: 0.7912\n",
      "Epoch 25/100\n",
      "55/55 [==============================] - 481s 9s/step - loss: 0.5900 - accuracy: 0.6221 - val_loss: 0.4262 - val_accuracy: 0.8005\n",
      "Epoch 26/100\n",
      "55/55 [==============================] - 513s 9s/step - loss: 0.5565 - accuracy: 0.6404 - val_loss: 0.4343 - val_accuracy: 0.8005\n",
      "Epoch 27/100\n",
      "55/55 [==============================] - 445s 8s/step - loss: 0.5568 - accuracy: 0.6588 - val_loss: 0.5093 - val_accuracy: 0.6814\n",
      "Epoch 28/100\n",
      "55/55 [==============================] - 510s 9s/step - loss: 0.5935 - accuracy: 0.6180 - val_loss: 0.4246 - val_accuracy: 0.7711\n",
      "Epoch 29/100\n",
      "55/55 [==============================] - 525s 9s/step - loss: 0.5731 - accuracy: 0.6399 - val_loss: 0.4131 - val_accuracy: 0.8139\n",
      "Epoch 30/100\n",
      "55/55 [==============================] - 519s 9s/step - loss: 0.5397 - accuracy: 0.6674 - val_loss: 0.4318 - val_accuracy: 0.7831\n",
      "Epoch 31/100\n",
      "55/55 [==============================] - 497s 9s/step - loss: 0.5874 - accuracy: 0.6123 - val_loss: 0.4151 - val_accuracy: 0.8072\n",
      "Epoch 32/100\n",
      "55/55 [==============================] - 476s 9s/step - loss: 0.5734 - accuracy: 0.6301 - val_loss: 0.4177 - val_accuracy: 0.8126\n",
      "Epoch 33/100\n",
      "55/55 [==============================] - 567s 10s/step - loss: 0.5668 - accuracy: 0.6502 - val_loss: 0.4320 - val_accuracy: 0.7979\n",
      "Epoch 34/100\n",
      "55/55 [==============================] - 547s 10s/step - loss: 0.5399 - accuracy: 0.6582 - val_loss: 0.3791 - val_accuracy: 0.8340\n",
      "Epoch 35/100\n",
      "55/55 [==============================] - 529s 9s/step - loss: 0.5664 - accuracy: 0.6381 - val_loss: 0.3776 - val_accuracy: 0.7952\n",
      "Epoch 36/100\n",
      "55/55 [==============================] - 459s 8s/step - loss: 0.5546 - accuracy: 0.6669 - val_loss: 0.3663 - val_accuracy: 0.8166\n",
      "Epoch 37/100\n",
      "55/55 [==============================] - 544s 10s/step - loss: 0.5648 - accuracy: 0.6473 - val_loss: 0.4473 - val_accuracy: 0.8005\n",
      "Epoch 38/100\n",
      "55/55 [==============================] - 605s 11s/step - loss: 0.5704 - accuracy: 0.6600 - val_loss: 0.4399 - val_accuracy: 0.7885\n",
      "Epoch 39/100\n",
      "55/55 [==============================] - 523s 9s/step - loss: 0.5880 - accuracy: 0.6215 - val_loss: 0.3776 - val_accuracy: 0.8220\n",
      "Epoch 40/100\n",
      "55/55 [==============================] - 537s 10s/step - loss: 0.5599 - accuracy: 0.6473 - val_loss: 0.4006 - val_accuracy: 0.8059\n",
      "Epoch 41/100\n",
      "55/55 [==============================] - 512s 9s/step - loss: 0.5407 - accuracy: 0.6686 - val_loss: 0.5992 - val_accuracy: 0.7738\n",
      "Epoch 42/100\n",
      "55/55 [==============================] - 536s 10s/step - loss: 0.6008 - accuracy: 0.6192 - val_loss: 0.3919 - val_accuracy: 0.8246\n",
      "Epoch 43/100\n",
      "55/55 [==============================] - 553s 10s/step - loss: 0.5633 - accuracy: 0.6634 - val_loss: 0.3984 - val_accuracy: 0.8112\n",
      "Epoch 44/100\n",
      "55/55 [==============================] - 531s 9s/step - loss: 0.5201 - accuracy: 0.6772 - val_loss: 0.3672 - val_accuracy: 0.8166\n",
      "Epoch 45/100\n",
      "55/55 [==============================] - 551s 10s/step - loss: 0.5176 - accuracy: 0.6841 - val_loss: 0.4040 - val_accuracy: 0.8300\n",
      "Epoch 46/100\n",
      "55/55 [==============================] - 530s 9s/step - loss: 0.5717 - accuracy: 0.6307 - val_loss: 0.3887 - val_accuracy: 0.8099\n",
      "Epoch 47/100\n",
      "55/55 [==============================] - 546s 10s/step - loss: 0.5737 - accuracy: 0.6249 - val_loss: 0.4011 - val_accuracy: 0.8086\n",
      "Epoch 48/100\n",
      "55/55 [==============================] - 503s 9s/step - loss: 0.5796 - accuracy: 0.6284 - val_loss: 0.3900 - val_accuracy: 0.8139\n",
      "Epoch 49/100\n",
      "55/55 [==============================] - 467s 8s/step - loss: 0.5449 - accuracy: 0.6778 - val_loss: 0.4174 - val_accuracy: 0.7684\n",
      "Epoch 50/100\n",
      "55/55 [==============================] - 443s 8s/step - loss: 0.5231 - accuracy: 0.6806 - val_loss: 0.3630 - val_accuracy: 0.8300\n",
      "Epoch 51/100\n",
      "55/55 [==============================] - 461s 8s/step - loss: 0.5556 - accuracy: 0.6640 - val_loss: 0.4985 - val_accuracy: 0.7577\n",
      "Epoch 52/100\n",
      "55/55 [==============================] - 499s 9s/step - loss: 0.5556 - accuracy: 0.6508 - val_loss: 0.3638 - val_accuracy: 0.8313\n",
      "Epoch 53/100\n",
      "55/55 [==============================] - 443s 8s/step - loss: 0.5397 - accuracy: 0.6559 - val_loss: 0.3658 - val_accuracy: 0.8206\n",
      "Epoch 54/100\n",
      "55/55 [==============================] - 445s 8s/step - loss: 0.5516 - accuracy: 0.6508 - val_loss: 0.3514 - val_accuracy: 0.8313\n",
      "Epoch 55/100\n",
      "55/55 [==============================] - 511s 9s/step - loss: 0.5553 - accuracy: 0.6427 - val_loss: 0.4697 - val_accuracy: 0.8206\n",
      "Epoch 56/100\n",
      "55/55 [==============================] - 462s 8s/step - loss: 0.5232 - accuracy: 0.6789 - val_loss: 0.3497 - val_accuracy: 0.8394\n",
      "Epoch 57/100\n",
      "55/55 [==============================] - 555s 10s/step - loss: 0.5661 - accuracy: 0.6146 - val_loss: 0.3807 - val_accuracy: 0.8233\n",
      "Epoch 58/100\n"
     ]
    },
    {
     "name": "stdout",
     "output_type": "stream",
     "text": [
      "55/55 [==============================] - 468s 8s/step - loss: 0.5693 - accuracy: 0.6284 - val_loss: 0.3760 - val_accuracy: 0.8046\n",
      "Epoch 59/100\n",
      "55/55 [==============================] - 473s 8s/step - loss: 0.5601 - accuracy: 0.6307 - val_loss: 0.4108 - val_accuracy: 0.8005\n",
      "Epoch 60/100\n",
      "55/55 [==============================] - 468s 8s/step - loss: 0.5226 - accuracy: 0.6778 - val_loss: 0.3723 - val_accuracy: 0.8340\n",
      "Epoch 61/100\n",
      "55/55 [==============================] - 532s 10s/step - loss: 0.5668 - accuracy: 0.6519 - val_loss: 0.4340 - val_accuracy: 0.7818\n",
      "Epoch 62/100\n",
      "55/55 [==============================] - 528s 9s/step - loss: 0.5915 - accuracy: 0.5979 - val_loss: 0.4051 - val_accuracy: 0.8099\n",
      "Epoch 63/100\n",
      "55/55 [==============================] - 549s 10s/step - loss: 0.5572 - accuracy: 0.6542 - val_loss: 0.3882 - val_accuracy: 0.8139\n",
      "Epoch 64/100\n",
      "55/55 [==============================] - 447s 8s/step - loss: 0.5719 - accuracy: 0.6238 - val_loss: 0.3720 - val_accuracy: 0.8380\n",
      "Epoch 65/100\n",
      "55/55 [==============================] - 550s 10s/step - loss: 0.5544 - accuracy: 0.6565 - val_loss: 0.3477 - val_accuracy: 0.8487\n",
      "Epoch 66/100\n",
      "55/55 [==============================] - 465s 8s/step - loss: 0.5461 - accuracy: 0.6674 - val_loss: 0.5040 - val_accuracy: 0.7738\n",
      "Epoch 67/100\n",
      "55/55 [==============================] - 516s 9s/step - loss: 0.5699 - accuracy: 0.6479 - val_loss: 0.3650 - val_accuracy: 0.8246\n",
      "Epoch 68/100\n",
      "55/55 [==============================] - 433s 8s/step - loss: 0.5581 - accuracy: 0.6393 - val_loss: 0.3600 - val_accuracy: 0.8206\n",
      "Epoch 69/100\n",
      "55/55 [==============================] - 447s 8s/step - loss: 0.5278 - accuracy: 0.6766 - val_loss: 0.3325 - val_accuracy: 0.8501\n",
      "Epoch 70/100\n",
      "55/55 [==============================] - 434s 8s/step - loss: 0.5755 - accuracy: 0.6364 - val_loss: 0.4185 - val_accuracy: 0.7871\n",
      "Epoch 71/100\n",
      "55/55 [==============================] - 429s 8s/step - loss: 0.5786 - accuracy: 0.6433 - val_loss: 0.3687 - val_accuracy: 0.8112\n",
      "Epoch 72/100\n",
      "55/55 [==============================] - 450s 8s/step - loss: 0.5492 - accuracy: 0.6605 - val_loss: 0.3548 - val_accuracy: 0.8313\n",
      "Epoch 73/100\n",
      "55/55 [==============================] - 429s 8s/step - loss: 0.5686 - accuracy: 0.6364 - val_loss: 0.3294 - val_accuracy: 0.8487\n",
      "Epoch 74/100\n",
      "55/55 [==============================] - 437s 8s/step - loss: 0.5853 - accuracy: 0.6358 - val_loss: 0.3367 - val_accuracy: 0.8420\n",
      "Epoch 75/100\n",
      "55/55 [==============================] - 548s 10s/step - loss: 0.5435 - accuracy: 0.6588 - val_loss: 0.3650 - val_accuracy: 0.8420\n",
      "Epoch 76/100\n",
      "55/55 [==============================] - 439s 8s/step - loss: 0.5721 - accuracy: 0.6301 - val_loss: 0.3223 - val_accuracy: 0.8568\n",
      "Epoch 77/100\n",
      "55/55 [==============================] - 420s 8s/step - loss: 0.5644 - accuracy: 0.6307 - val_loss: 0.4446 - val_accuracy: 0.7818\n",
      "Epoch 78/100\n",
      "55/55 [==============================] - 435s 8s/step - loss: 0.5598 - accuracy: 0.6381 - val_loss: 0.3641 - val_accuracy: 0.8179\n",
      "Epoch 79/100\n",
      "55/55 [==============================] - 444s 8s/step - loss: 0.5448 - accuracy: 0.6617 - val_loss: 0.3553 - val_accuracy: 0.8527\n",
      "Epoch 80/100\n",
      "55/55 [==============================] - 435s 8s/step - loss: 0.5390 - accuracy: 0.6634 - val_loss: 0.3964 - val_accuracy: 0.8032\n",
      "Epoch 81/100\n",
      "55/55 [==============================] - 434s 8s/step - loss: 0.5266 - accuracy: 0.6772 - val_loss: 0.3433 - val_accuracy: 0.8420\n",
      "Epoch 82/100\n",
      "55/55 [==============================] - 426s 8s/step - loss: 0.5700 - accuracy: 0.6347 - val_loss: 0.3169 - val_accuracy: 0.8688\n",
      "Epoch 83/100\n",
      "55/55 [==============================] - 459s 8s/step - loss: 0.4770 - accuracy: 0.7209 - val_loss: 0.3102 - val_accuracy: 0.8648\n",
      "Epoch 84/100\n",
      "55/55 [==============================] - 434s 8s/step - loss: 0.5926 - accuracy: 0.6146 - val_loss: 0.3671 - val_accuracy: 0.8327\n",
      "Epoch 85/100\n",
      "55/55 [==============================] - 436s 8s/step - loss: 0.5213 - accuracy: 0.6829 - val_loss: 0.3212 - val_accuracy: 0.8394\n",
      "Epoch 86/100\n",
      "55/55 [==============================] - 470s 8s/step - loss: 0.5170 - accuracy: 0.6778 - val_loss: 0.3114 - val_accuracy: 0.8568\n",
      "Epoch 87/100\n",
      "55/55 [==============================] - 446s 8s/step - loss: 0.5406 - accuracy: 0.6663 - val_loss: 0.3568 - val_accuracy: 0.8461\n",
      "Epoch 88/100\n",
      "55/55 [==============================] - 473s 8s/step - loss: 0.5312 - accuracy: 0.6703 - val_loss: 0.3508 - val_accuracy: 0.8340\n",
      "Epoch 89/100\n",
      "55/55 [==============================] - 509s 9s/step - loss: 0.5370 - accuracy: 0.6738 - val_loss: 0.3065 - val_accuracy: 0.8608\n",
      "Epoch 90/100\n",
      "55/55 [==============================] - 446s 8s/step - loss: 0.5888 - accuracy: 0.6060 - val_loss: 0.3196 - val_accuracy: 0.8461\n",
      "Epoch 91/100\n",
      "55/55 [==============================] - 449s 8s/step - loss: 0.5409 - accuracy: 0.6870 - val_loss: 0.3360 - val_accuracy: 0.8594\n",
      "Epoch 92/100\n",
      "55/55 [==============================] - 456s 8s/step - loss: 0.5561 - accuracy: 0.6749 - val_loss: 0.3657 - val_accuracy: 0.8206\n",
      "Epoch 93/100\n",
      "55/55 [==============================] - 479s 9s/step - loss: 0.4727 - accuracy: 0.7134 - val_loss: 0.3704 - val_accuracy: 0.8367\n",
      "Epoch 94/100\n",
      "55/55 [==============================] - 456s 8s/step - loss: 0.5701 - accuracy: 0.6255 - val_loss: 0.3168 - val_accuracy: 0.8487\n",
      "Epoch 95/100\n",
      "55/55 [==============================] - 432s 8s/step - loss: 0.5091 - accuracy: 0.6950 - val_loss: 0.2911 - val_accuracy: 0.8768\n",
      "Epoch 96/100\n",
      "55/55 [==============================] - 440s 8s/step - loss: 0.4825 - accuracy: 0.7214 - val_loss: 0.3161 - val_accuracy: 0.8461\n",
      "Epoch 97/100\n",
      "55/55 [==============================] - 459s 8s/step - loss: 0.5791 - accuracy: 0.6318 - val_loss: 0.3141 - val_accuracy: 0.8701\n",
      "Epoch 98/100\n",
      "55/55 [==============================] - 439s 8s/step - loss: 0.5574 - accuracy: 0.6525 - val_loss: 0.5113 - val_accuracy: 0.7912\n",
      "Epoch 99/100\n",
      "55/55 [==============================] - 453s 8s/step - loss: 0.5084 - accuracy: 0.6852 - val_loss: 0.2937 - val_accuracy: 0.8554\n",
      "Epoch 100/100\n",
      "55/55 [==============================] - 443s 8s/step - loss: 0.5301 - accuracy: 0.6709 - val_loss: 0.2845 - val_accuracy: 0.8675\n"
     ]
    }
   ],
   "source": [
    "# 모델 학습하기\n",
    "\n",
    "earlystopping = tf.keras.callbacks.EarlyStopping(monitor='val_loss', patience=30, verbose=1)\n",
    "history = model.fit(ds_train,\n",
    "                    validation_data=ds_valid,\n",
    "                    epochs=EPOCHS,\n",
    "                    callbacks=[earlystopping])"
   ]
  },
  {
   "cell_type": "code",
   "execution_count": 24,
   "metadata": {
    "id": "2H2tc6aD0pXa"
   },
   "outputs": [
    {
     "data": {
      "image/png": "[encoded data removed]",
      "text/plain": [
       "<Figure size 432x288 with 1 Axes>"
      ]
     },
     "metadata": {
      "needs_background": "light"
     },
     "output_type": "display_data"
    }
   ],
   "source": [
    "# 학습 결과 출력\n",
    "\n",
    "loss = history.history['loss']\n",
    "val_loss = history.history['val_loss']\n",
    "\n",
    "plt.figure()\n",
    "plt.plot(loss, 'ro-', label='loss')\n",
    "plt.plot(val_loss, 'bo-', label='val_loss')\n",
    "plt.ylabel('Cross Entropy')\n",
    "plt.xlabel('Epoch')\n",
    "plt.legend()\n",
    "plt.title('Training and Validation Loss')\n",
    "plt.show()"
   ]
  },
  {
   "cell_type": "code",
   "execution_count": 20,
   "metadata": {
    "id": "IIhRsx7r0suU"
   },
   "outputs": [],
   "source": [
    "model.save('model/inception_model.h5')"
   ]
  },
  {
   "cell_type": "code",
   "execution_count": 26,
   "metadata": {},
   "outputs": [
    {
     "name": "stdout",
     "output_type": "stream",
     "text": [
      "Note: you may need to restart the kernel to use updated packages.\n"
     ]
    }
   ],
   "source": [
    "pip freeze > Requirements.txt"
   ]
  }
 ],
 "metadata": {
  "colab": {
   "collapsed_sections": [
    "YIa5kjnrzDa2",
    "ry1DVMTPzw3t"
   ],
   "name": "S4_project.ipynb",
   "provenance": []
  },
  "kernelspec": {
   "display_name": "Python 3 (ipykernel)",
   "language": "python",
   "name": "python3"
  },
  "language_info": {
   "codemirror_mode": {
    "name": "ipython",
    "version": 3
   },
   "file_extension": ".py",
   "mimetype": "text/x-python",
   "name": "python",
   "nbconvert_exporter": "python",
   "pygments_lexer": "ipython3",
   "version": "3.8.8"
  }
 },
 "nbformat": 4,
 "nbformat_minor": 1
}
